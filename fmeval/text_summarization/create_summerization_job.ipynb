{
 "cells": [
  {
   "cell_type": "code",
   "execution_count": null,
   "id": "f8436bdb-33d5-4e37-a816-36826cf40ba5",
   "metadata": {
    "scrolled": true
   },
   "outputs": [],
   "source": [
    "!pip install 'sagemaker[local]' --upgrade\n",
    "!pip install -U sagemaker\n",
    "!pip install -U boto3"
   ]
  },
  {
   "cell_type": "code",
   "execution_count": null,
   "id": "880dbc55-62e5-4d21-bbee-a40af3633fea",
   "metadata": {},
   "outputs": [],
   "source": [
    "role"
   ]
  },
  {
   "cell_type": "code",
   "execution_count": null,
   "id": "b75f6348-1cdf-40e5-9376-40d401dcac56",
   "metadata": {},
   "outputs": [],
   "source": [
    "import boto3\n",
    "import sagemaker\n",
    "from sagemaker import get_execution_role\n",
    "from sagemaker.processing import ScriptProcessor\n",
    "region = sagemaker.Session().boto_region_name\n",
    "role = get_execution_role()\n",
    "from sagemaker.processing import ProcessingInput, ProcessingOutput\n"
   ]
  },
  {
   "cell_type": "markdown",
   "id": "92d446d3-cd48-4b6b-9399-b302b95fc167",
   "metadata": {},
   "source": [
    "## Execute evaluation job of summarization task for Claude Model"
   ]
  },
  {
   "cell_type": "code",
   "execution_count": null,
   "id": "9d163a1c-4f95-4f46-8ac3-6c80f3695db2",
   "metadata": {},
   "outputs": [],
   "source": [
    "ls -l ~/"
   ]
  },
  {
   "cell_type": "code",
   "execution_count": null,
   "id": "7002a9cc-668f-450e-8c10-b249b5397fb6",
   "metadata": {},
   "outputs": [],
   "source": [
    "!docker images"
   ]
  },
  {
   "cell_type": "code",
   "execution_count": null,
   "id": "99a3bb0b-f8ce-4eef-b750-bf0c332d6a2a",
   "metadata": {},
   "outputs": [],
   "source": [
    "!docker rmi 0e95ec168f7b -f\n"
   ]
  },
  {
   "cell_type": "code",
   "execution_count": null,
   "id": "39b4063e-2064-471c-a015-61185ba4e113",
   "metadata": {},
   "outputs": [],
   "source": [
    "!docker image prune -f"
   ]
  },
  {
   "cell_type": "code",
   "execution_count": null,
   "id": "a9db719c-2833-4bb5-82e7-d868841ac596",
   "metadata": {},
   "outputs": [],
   "source": [
    "\n",
    "script_processor = ScriptProcessor(\n",
    "    command=['python3'],\n",
    "    image_uri='XXXXXXXXXXXX.dkr.ecr.us-east-1.amazonaws.com/fmeval-container:latest',\n",
    "    role=role, \n",
    "    base_job_name=\"fmeval-anthropic-text-summarization\",\n",
    "    instance_type=\"local\", #\"ml.m5.xlarge\", \n",
    "    instance_count=1\n",
    ")"
   ]
  },
  {
   "cell_type": "code",
   "execution_count": null,
   "id": "16c3e5b2-bc36-4803-b1da-24998d19370c",
   "metadata": {
    "scrolled": true
   },
   "outputs": [],
   "source": [
    "\n",
    "script_processor.run(\n",
    "    code=\"code/claude_text_summarization.py\",\n",
    "    # arguments = [\"arg1\", \"arg2\"], # Arguments can optionally be specified here\n",
    "    inputs=[ProcessingInput(source=\"data/xsum_sample.jsonl\", \n",
    "                            destination=\"/opt/ml/processing/input/data/\"),\n",
    "           ],\n",
    "    outputs=[\n",
    "        ProcessingOutput(source=\"/opt/ml/processing/output/evaluation\")\n",
    "    ],\n",
    "    arguments=[#'--region', region,\n",
    "                '--input_data', 'xsum_sample.jsonl',\n",
    "               #'--model_id', 'anthropic.claude-v2',\n",
    "            '--model_id', 'anthropic.claude-v2:1',\n",
    "               #'--model_id', 'anthropic.claude-3-sonnet-20240229-v1:0',\n",
    "               #'--model_id', 'anthropic.claude-3-haiku-20240307-v1:0',\n",
    "               #'--model_id', 'anthropic.claude-instant-v1',\n",
    "              ],\n",
    "    wait=True\n",
    ")"
   ]
  },
  {
   "cell_type": "markdown",
   "id": "102a3576-2f53-42d9-9e34-0e1c0d28cedb",
   "metadata": {},
   "source": [
    "## execute processing job with S3 files"
   ]
  },
  {
   "cell_type": "code",
   "execution_count": null,
   "id": "d15efbb7-b900-4ed9-9518-d72a1950a746",
   "metadata": {},
   "outputs": [],
   "source": [
    "bucket = sagemaker.Session().default_bucket()\n",
    "print(bucket)\n",
    "s3_prefix = \"SageMaker_LLM_evaluation_job_package\""
   ]
  },
  {
   "cell_type": "code",
   "execution_count": null,
   "id": "d2d4a71d-6d33-4528-a1a7-5ef08f452fa9",
   "metadata": {},
   "outputs": [],
   "source": [
    "!aws s3 sync code/ \"s3://{bucket}/{s3_prefix}/code/\"\n",
    "!aws s3 sync data/ \"s3://{bucket}/{s3_prefix}/data/\""
   ]
  },
  {
   "cell_type": "code",
   "execution_count": null,
   "id": "9fc0890f-ce82-4755-8d88-03f26993d65f",
   "metadata": {},
   "outputs": [],
   "source": [
    "script_processor = ScriptProcessor(\n",
    "    command=['python3'],\n",
    "    image_uri='XXXXXXXXXXXX.dkr.ecr.us-east-1.amazonaws.com/fmeval-processing-container:latest',\n",
    "    role=role, \n",
    "    base_job_name=\"fmeval-text-summarization\",\n",
    "    instance_type=\"ml.m5.xlarge\", \n",
    "    instance_count=1\n",
    ")"
   ]
  },
  {
   "cell_type": "code",
   "execution_count": null,
   "id": "4a270101-19b9-498e-8a19-e6e458273e24",
   "metadata": {
    "scrolled": true
   },
   "outputs": [],
   "source": [
    "script_processor.run(\n",
    "    code=f\"s3://{bucket}/{s3_prefix}/code/preprocessing.py\",\n",
    "    # arguments = [\"arg1\", \"arg2\"], # Arguments can optionally be specified here\n",
    "    inputs=[ProcessingInput(source= f\"s3://{bucket}/{s3_prefix}/data/xsum_sample.jsonl\", \n",
    "                            destination=\"/opt/ml/processing/input/data/\"),\n",
    "           ],\n",
    "    outputs=[\n",
    "        ProcessingOutput(source=\"/opt/ml/processing/output/evaluation\")\n",
    "    ],\n",
    ")"
   ]
  },
  {
   "cell_type": "markdown",
   "id": "f366a10b-7dbf-4388-8563-28c06cffa6c2",
   "metadata": {},
   "source": [
    "## Execute evaluation job of summarization task for OpenAI model (ChatGPT4)"
   ]
  },
  {
   "cell_type": "code",
   "execution_count": null,
   "id": "9154c861-a162-4162-b658-03a10ad91edc",
   "metadata": {},
   "outputs": [],
   "source": [
    "script_processor = ScriptProcessor(\n",
    "    command=['python3'],\n",
    "    image_uri='XXXXXXXXXXXX.dkr.ecr.us-east-1.amazonaws.com/fmeval-container:latest',\n",
    "    role=role, \n",
    "    base_job_name=\"fmeval-openai-text-summarization\",\n",
    "    instance_type=\"local\", #\"ml.m5.xlarge\", \n",
    "    instance_count=1\n",
    ")"
   ]
  },
  {
   "cell_type": "code",
   "execution_count": null,
   "id": "5715a38b-d0b2-42a9-b6a1-473175583a74",
   "metadata": {
    "scrolled": true
   },
   "outputs": [],
   "source": [
    "script_processor.run(\n",
    "    code=\"code/openai_text_summarization.py\",\n",
    "    # arguments = [\"arg1\", \"arg2\"], # Arguments can optionally be specified here\n",
    "    inputs=[ProcessingInput(source= f\"data/xsum_sample.jsonl\", \n",
    "                            destination=\"/opt/ml/processing/input/data/\"),\n",
    "           ],\n",
    "    outputs=[\n",
    "        ProcessingOutput(source=\"/opt/ml/processing/output/evaluation\")\n",
    "    ],\n",
    "    arguments=['--input_data', 'xsum_sample.jsonl',\n",
    "               '--model_id', 'gpt-3.5-turbo',\n",
    "              ],\n",
    ")"
   ]
  }
 ],
 "metadata": {
  "kernelspec": {
   "display_name": "Python 3 (ipykernel)",
   "language": "python",
   "name": "python3"
  },
  "language_info": {
   "codemirror_mode": {
    "name": "ipython",
    "version": 3
   },
   "file_extension": ".py",
   "mimetype": "text/x-python",
   "name": "python",
   "nbconvert_exporter": "python",
   "pygments_lexer": "ipython3",
   "version": "3.10.13"
  }
 },
 "nbformat": 4,
 "nbformat_minor": 5
}
